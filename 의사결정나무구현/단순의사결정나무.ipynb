{
 "cells": [
  {
   "cell_type": "code",
   "execution_count": 1,
   "metadata": {},
   "outputs": [],
   "source": [
    "def survival_classifier(seat_belt, highway, speed, age):\n",
    "    # 코드를 쓰세요\n",
    "    if seat_belt == True:\n",
    "        return 0\n",
    "    elif highway == False:\n",
    "        return 0\n",
    "    elif speed < 100:\n",
    "        return 0\n",
    "    elif age < 50:\n",
    "        return 0\n",
    "    else:\n",
    "        return 1"
   ]
  },
  {
   "cell_type": "code",
   "execution_count": 2,
   "metadata": {},
   "outputs": [
    {
     "name": "stdout",
     "output_type": "stream",
     "text": [
      "1\n",
      "0\n",
      "0\n",
      "1\n",
      "0\n"
     ]
    }
   ],
   "source": [
    "print(survival_classifier(False, True, 110, 55))\n",
    "print(survival_classifier(True, False, 40, 70))\n",
    "print(survival_classifier(False, True, 80, 25))\n",
    "print(survival_classifier(False, True, 120, 60))\n",
    "print(survival_classifier(True, False, 30, 20))"
   ]
  }
 ],
 "metadata": {
  "kernelspec": {
   "display_name": "Python 3.8.0 32-bit",
   "language": "python",
   "name": "python3"
  },
  "language_info": {
   "codemirror_mode": {
    "name": "ipython",
    "version": 3
   },
   "file_extension": ".py",
   "mimetype": "text/x-python",
   "name": "python",
   "nbconvert_exporter": "python",
   "pygments_lexer": "ipython3",
   "version": "3.8.0"
  },
  "orig_nbformat": 4,
  "vscode": {
   "interpreter": {
    "hash": "afd990d1ffb428599180053b367045fc3400eaa8d16e757825c779afdc40dda1"
   }
  }
 },
 "nbformat": 4,
 "nbformat_minor": 2
}

{
 "cells": [
  {
   "cell_type": "code",
   "execution_count": 1,
   "metadata": {},
   "outputs": [],
   "source": [
    "import numpy as np"
   ]
  },
  {
   "cell_type": "code",
   "execution_count": 3,
   "metadata": {},
   "outputs": [],
   "source": [
    "def initialize(R, num_features):\n",
    "    \"\"\"임의로 유저 취향과 상품 속성 행렬들을 만들어주는 함수\"\"\"\n",
    "    num_users, num_items = R.shape  \n",
    "    # 유저 데이터 개수와 영화 개수를 변수에 저장\n",
    "    Theta = np.random.rand(num_users,num_features)\n",
    "    X = np.random.rand(num_features,num_items)\n",
    "    return Theta, X"
   ]
  },
  {
   "cell_type": "code",
   "execution_count": 4,
   "metadata": {},
   "outputs": [
    {
     "data": {
      "text/plain": [
       "(array([[0.53332451, 0.11869489],\n",
       "        [0.58161445, 0.59718881],\n",
       "        [0.58824406, 0.33516205],\n",
       "        [0.10685192, 0.98220418],\n",
       "        [0.69341555, 0.87304992]]),\n",
       " array([[0.86141779, 0.04809284, 0.75895436, 0.70942818, 0.48372399,\n",
       "         0.95041107],\n",
       "        [0.00926819, 0.6403695 , 0.88252035, 0.74465139, 0.60477658,\n",
       "         0.37194449]]))"
      ]
     },
     "execution_count": 4,
     "metadata": {},
     "output_type": "execute_result"
    }
   ],
   "source": [
    "R = np.array([\n",
    "    [3, 4, 1, np.nan, 1, 2],\n",
    "    [4, 4, 3, np.nan, 5, 3],\n",
    "    [2, 3, np.nan, 1, 3, 4],\n",
    "    [1, 3, 2, 4, 2, 2],\n",
    "    [1, 2, np.nan, 2, 2, 4],\n",
    "    ])\n",
    "    \n",
    "    \n",
    "Theta, X = initialize(R, 2)\n",
    "Theta, X"
   ]
  }
 ],
 "metadata": {
  "kernelspec": {
   "display_name": "Python 3.8.0 32-bit",
   "language": "python",
   "name": "python3"
  },
  "language_info": {
   "codemirror_mode": {
    "name": "ipython",
    "version": 3
   },
   "file_extension": ".py",
   "mimetype": "text/x-python",
   "name": "python",
   "nbconvert_exporter": "python",
   "pygments_lexer": "ipython3",
   "version": "3.8.0"
  },
  "orig_nbformat": 4,
  "vscode": {
   "interpreter": {
    "hash": "afd990d1ffb428599180053b367045fc3400eaa8d16e757825c779afdc40dda1"
   }
  }
 },
 "nbformat": 4,
 "nbformat_minor": 2
}

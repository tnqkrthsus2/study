{
 "cells": [
  {
   "cell_type": "code",
   "execution_count": 1,
   "metadata": {},
   "outputs": [],
   "source": [
    "import pandas as pd\n",
    "import numpy as np\n",
    "from math import sqrt"
   ]
  },
  {
   "cell_type": "code",
   "execution_count": 2,
   "metadata": {},
   "outputs": [],
   "source": [
    "np.set_printoptions(precision=2)  # 소수점 둘째 자리까지만 출력\n",
    "\n",
    "def distance(user_1, user_2):\n",
    "    \"\"\"유클리드 거리를 계산해주는 함수\"\"\"\n",
    "    return sqrt(np.sum((user_1 - user_2)**2))\n",
    "    \n",
    "    \n",
    "def filter_users_without_movie(rating_data, movie_id):\n",
    "    \"\"\"movie_id 번째 영화를 평가하지 않은 유저들은 미리 제외해주는 함수\"\"\"\n",
    "    return rating_data[~np.isnan(rating_data[:,movie_id])]\n",
    "    \n",
    "    \n",
    "def fill_nan_with_user_mean(rating_data):\n",
    "    \"\"\"평점 데이터의 빈값들을 각 유저 평균 값으로 체워주는 함수\"\"\"\n",
    "    filled_data = np.copy(rating_data)  # 평점 데이터를 훼손하지 않기 위해 복사\n",
    "    row_mean = np.nanmean(filled_data, axis=1)  # 유저 평균 평점 계산\n",
    "    \n",
    "    inds = np.where(np.isnan(filled_data))  # 비어 있는 인덱스들을 구한다\n",
    "    filled_data[inds] = np.take(row_mean, inds[0])  #빈 인덱스를 유저 평점으로 채운다\n",
    "    \n",
    "    return filled_data\n",
    "    \n",
    "    \n",
    "def get_k_neighbors(user_id, rating_data, k):\n",
    "    \"\"\"user_id에 해당하는 유저의 이웃들을 찾아주는 함수\"\"\"\n",
    "    distance_data = np.copy(rating_data)  # 평점 데이터를 훼손하지 않기 위해 복사\n",
    "    # 마지막에 거리 데이터를 담을 열 추가한다\n",
    "    distance_data = np.append(distance_data, np.zeros((distance_data.shape[0], 1)), axis=1)\n",
    "    \n",
    "    for i in range(len(distance_data)):\n",
    "        row = distance_data[i]\n",
    "        if i == user_id:\n",
    "            row[-1] = np.inf\n",
    "        else:\n",
    "            row[-1] = distance(distance_data[user_id][:-1],row[:-1])\n",
    "    # 데이터를 거리 열을 기준으로 정렬한다\n",
    "    distance_data = distance_data[np.argsort(distance_data[:, -1])]\n",
    "    \n",
    "    # 가장 가까운 k개의 행만 리턴한다 + 마지막(거리) 열은 제외한다\n",
    "    return distance_data[:k, :-1]"
   ]
  },
  {
   "cell_type": "code",
   "execution_count": 3,
   "metadata": {},
   "outputs": [
    {
     "data": {
      "text/plain": [
       "array([[3.18, 3.18, 3.18, 5.  , 3.18, 3.18, 2.  , 2.  , 2.  , 3.18, 3.  ,\n",
       "        4.  , 2.  , 5.  , 4.  , 3.18, 3.18, 3.18, 4.  , 2.  ],\n",
       "       [3.36, 5.  , 3.36, 5.  , 3.  , 3.36, 3.36, 3.  , 2.  , 4.  , 2.  ,\n",
       "        3.36, 4.  , 4.  , 5.  , 4.  , 2.  , 3.36, 1.  , 3.  ],\n",
       "       [2.71, 2.71, 2.  , 5.  , 2.71, 2.71, 2.71, 2.71, 2.71, 2.71, 2.71,\n",
       "        2.71, 1.  , 2.71, 2.71, 2.71, 3.  , 1.  , 5.  , 2.  ],\n",
       "       [2.78, 5.  , 1.  , 4.  , 2.78, 2.78, 2.78, 3.  , 1.  , 2.78, 1.  ,\n",
       "        2.78, 2.78, 4.  , 2.78, 2.78, 2.  , 2.78, 2.78, 4.  ],\n",
       "       [3.  , 3.  , 3.  , 5.  , 4.  , 3.  , 3.  , 4.  , 5.  , 3.  , 3.  ,\n",
       "        1.  , 2.  , 1.  , 1.  , 3.  , 3.  , 3.  , 4.  , 3.  ]])"
      ]
     },
     "execution_count": 3,
     "metadata": {},
     "output_type": "execute_result"
    }
   ],
   "source": [
    "rating_data = pd.read_csv('ratings.csv', index_col='user_id').values  # 평점 데이터를 불러온다\n",
    "filtered_data = filter_users_without_movie(rating_data, 3)  # 3 번째 영화를 보지 않은 유저를 데이터에서 미리 제외시킨다\n",
    "filled_data = fill_nan_with_user_mean(filtered_data)  # 빈값들이 채워진 새로운 행렬을 만든다\n",
    "user_0_neighbors = get_k_neighbors(0, filled_data, 5)  # 유저 0과 비슷한 5개의 유저 데이터를 찾는다\n",
    "user_0_neighbors"
   ]
  }
 ],
 "metadata": {
  "kernelspec": {
   "display_name": "Python 3.8.0 32-bit",
   "language": "python",
   "name": "python3"
  },
  "language_info": {
   "codemirror_mode": {
    "name": "ipython",
    "version": 3
   },
   "file_extension": ".py",
   "mimetype": "text/x-python",
   "name": "python",
   "nbconvert_exporter": "python",
   "pygments_lexer": "ipython3",
   "version": "3.8.0"
  },
  "orig_nbformat": 4,
  "vscode": {
   "interpreter": {
    "hash": "afd990d1ffb428599180053b367045fc3400eaa8d16e757825c779afdc40dda1"
   }
  }
 },
 "nbformat": 4,
 "nbformat_minor": 2
}

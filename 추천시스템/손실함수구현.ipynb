{
 "cells": [
  {
   "cell_type": "code",
   "execution_count": 1,
   "metadata": {},
   "outputs": [],
   "source": [
    "import numpy as np"
   ]
  },
  {
   "cell_type": "code",
   "execution_count": 2,
   "metadata": {},
   "outputs": [],
   "source": [
    "def cost(prediction, R):\n",
    "    \"\"\"행렬 인수분해 알고리즘의 손실을 계산해주는 함수\"\"\"\n",
    "    return np.nansum((prediction - R)**2)      "
   ]
  },
  {
   "cell_type": "code",
   "execution_count": 3,
   "metadata": {},
   "outputs": [],
   "source": [
    "# 예측 값 행렬\n",
    "prediction = np.array([\n",
    "    [4, 4, 1, 1, 2, 2],\n",
    "    [4, 4, 3, 1, 5, 5],\n",
    "    [2, 2, 1, 1, 3, 4],\n",
    "    [1, 3, 1, 4, 2, 2],\n",
    "    [1, 2, 4, 1, 2, 5],\n",
    "    ])\n",
    "\n",
    "# 실제 값 행렬\n",
    "R = np.array([\n",
    "    [3, 4, 1, np.nan, 1, 2],\n",
    "    [4, 4, 3, np.nan, 5, 3],\n",
    "    [2, 3, np.nan, 1, 3, 4],\n",
    "    [1, 3, 2, 4, 2, 2],\n",
    "    [1, 2, np.nan, 2, 2, 4],\n",
    "    ])\n"
   ]
  },
  {
   "cell_type": "code",
   "execution_count": 4,
   "metadata": {},
   "outputs": [
    {
     "data": {
      "text/plain": [
       "10.0"
      ]
     },
     "execution_count": 4,
     "metadata": {},
     "output_type": "execute_result"
    }
   ],
   "source": [
    "cost(prediction, R)"
   ]
  }
 ],
 "metadata": {
  "kernelspec": {
   "display_name": "Python 3.8.0 32-bit",
   "language": "python",
   "name": "python3"
  },
  "language_info": {
   "codemirror_mode": {
    "name": "ipython",
    "version": 3
   },
   "file_extension": ".py",
   "mimetype": "text/x-python",
   "name": "python",
   "nbconvert_exporter": "python",
   "pygments_lexer": "ipython3",
   "version": "3.8.0"
  },
  "orig_nbformat": 4,
  "vscode": {
   "interpreter": {
    "hash": "afd990d1ffb428599180053b367045fc3400eaa8d16e757825c779afdc40dda1"
   }
  }
 },
 "nbformat": 4,
 "nbformat_minor": 2
}
